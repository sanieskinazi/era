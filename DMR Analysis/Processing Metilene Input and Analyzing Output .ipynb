{
 "cells": [
  {
   "cell_type": "code",
   "execution_count": 1,
   "metadata": {},
   "outputs": [],
   "source": [
    "# Stanford University, Winter 2021, STEMREM 205 Final Project\n",
    "# Title: Analyzing the Reprogramming of Rejuvenation\n",
    "# This notebook pre-processes the data for DMR analysis in the metilene software\n",
    "# The notebook also analyzes the output from the metilene software package\n",
    "# Command line codes that were used for metilene can be found in the GitHub repository\n",
    "# by: Sani Eskinazi, Joseph Wakim, Mahdi Moqri, PhD"
   ]
  },
  {
   "cell_type": "code",
   "execution_count": 2,
   "metadata": {},
   "outputs": [],
   "source": [
    "import pandas as pd\n",
    "import matplotlib.pyplot as plt\n",
    "import seaborn as sns\n",
    "import numpy as np\n",
    "from scipy import stats\n",
    "import statistics"
   ]
  },
  {
   "cell_type": "code",
   "execution_count": 3,
   "metadata": {
    "id": "YY8fbsJYTntl"
   },
   "outputs": [],
   "source": [
    "rep='ftp://ftp.ncbi.nlm.nih.gov/geo/series/GSE142nnn/GSE142439/matrix//GSE142439_series_matrix.txt.gz'\n",
    "epic_man='https://webdata.illumina.com/downloads/productfiles/methylationEPIC/infinium-methylationepic-v-1-0-b5-manifest-file-csv.zip'"
   ]
  },
  {
   "cell_type": "code",
   "execution_count": 4,
   "metadata": {},
   "outputs": [],
   "source": [
    "# Download Methylation Data\n",
    "df=pd.read_csv(rep,sep='\\t',skiprows=71,index_col=0) # methylation data starts from line 71\n",
    "df=df.drop('!series_matrix_table_end')\n"
   ]
  },
  {
   "cell_type": "code",
   "execution_count": 5,
   "metadata": {
    "colab": {
     "base_uri": "https://localhost:8080/",
     "height": 206
    },
    "id": "3fIZQRdNTx6p",
    "outputId": "b6ab161f-08b0-40a8-eb50-ed37093fc5e7"
   },
   "outputs": [
    {
     "data": {
      "text/html": [
       "<div>\n",
       "<style scoped>\n",
       "    .dataframe tbody tr th:only-of-type {\n",
       "        vertical-align: middle;\n",
       "    }\n",
       "\n",
       "    .dataframe tbody tr th {\n",
       "        vertical-align: top;\n",
       "    }\n",
       "\n",
       "    .dataframe thead th {\n",
       "        text-align: right;\n",
       "    }\n",
       "</style>\n",
       "<table border=\"1\" class=\"dataframe\">\n",
       "  <thead>\n",
       "    <tr style=\"text-align: right;\">\n",
       "      <th></th>\n",
       "      <th>GSM4227385</th>\n",
       "      <th>GSM4227386</th>\n",
       "      <th>GSM4227387</th>\n",
       "      <th>GSM4227388</th>\n",
       "      <th>GSM4227389</th>\n",
       "      <th>GSM4227390</th>\n",
       "      <th>GSM4227391</th>\n",
       "      <th>GSM4227392</th>\n",
       "      <th>GSM4227393</th>\n",
       "      <th>GSM4227394</th>\n",
       "      <th>GSM4227395</th>\n",
       "      <th>GSM4227396</th>\n",
       "      <th>GSM4227397</th>\n",
       "      <th>GSM4227398</th>\n",
       "      <th>GSM4227399</th>\n",
       "      <th>GSM4227400</th>\n",
       "    </tr>\n",
       "  </thead>\n",
       "  <tbody>\n",
       "    <tr>\n",
       "      <th>age</th>\n",
       "      <td>61</td>\n",
       "      <td>61</td>\n",
       "      <td>61</td>\n",
       "      <td>61</td>\n",
       "      <td>69</td>\n",
       "      <td>69</td>\n",
       "      <td>67</td>\n",
       "      <td>67</td>\n",
       "      <td>48</td>\n",
       "      <td>48</td>\n",
       "      <td>47</td>\n",
       "      <td>47</td>\n",
       "      <td>49</td>\n",
       "      <td>49</td>\n",
       "      <td>49</td>\n",
       "      <td>49</td>\n",
       "    </tr>\n",
       "    <tr>\n",
       "      <th>cell</th>\n",
       "      <td>skin</td>\n",
       "      <td>skin</td>\n",
       "      <td>skin</td>\n",
       "      <td>skin</td>\n",
       "      <td>skin</td>\n",
       "      <td>skin</td>\n",
       "      <td>skin</td>\n",
       "      <td>skin</td>\n",
       "      <td>vein</td>\n",
       "      <td>vein</td>\n",
       "      <td>vein</td>\n",
       "      <td>vein</td>\n",
       "      <td>vein</td>\n",
       "      <td>vein</td>\n",
       "      <td>vein</td>\n",
       "      <td>vein</td>\n",
       "    </tr>\n",
       "    <tr>\n",
       "      <th>treatment</th>\n",
       "      <td>Normal</td>\n",
       "      <td>Treated</td>\n",
       "      <td>Normal</td>\n",
       "      <td>Treated</td>\n",
       "      <td>Normal</td>\n",
       "      <td>Treated</td>\n",
       "      <td>Normal</td>\n",
       "      <td>Treated</td>\n",
       "      <td>Normal</td>\n",
       "      <td>Treated</td>\n",
       "      <td>Normal</td>\n",
       "      <td>Treated</td>\n",
       "      <td>Normal</td>\n",
       "      <td>Treated</td>\n",
       "      <td>Normal</td>\n",
       "      <td>Treated</td>\n",
       "    </tr>\n",
       "    <tr>\n",
       "      <th>t</th>\n",
       "      <td>1</td>\n",
       "      <td>0</td>\n",
       "      <td>1</td>\n",
       "      <td>0</td>\n",
       "      <td>1</td>\n",
       "      <td>0</td>\n",
       "      <td>1</td>\n",
       "      <td>0</td>\n",
       "      <td>1</td>\n",
       "      <td>0</td>\n",
       "      <td>1</td>\n",
       "      <td>0</td>\n",
       "      <td>1</td>\n",
       "      <td>0</td>\n",
       "      <td>1</td>\n",
       "      <td>0</td>\n",
       "    </tr>\n",
       "  </tbody>\n",
       "</table>\n",
       "</div>"
      ],
      "text/plain": [
       "          GSM4227385 GSM4227386 GSM4227387 GSM4227388 GSM4227389 GSM4227390  \\\n",
       "age               61         61         61         61         69         69   \n",
       "cell            skin       skin       skin       skin       skin       skin   \n",
       "treatment     Normal    Treated     Normal    Treated     Normal    Treated   \n",
       "t                  1          0          1          0          1          0   \n",
       "\n",
       "          GSM4227391 GSM4227392 GSM4227393 GSM4227394 GSM4227395 GSM4227396  \\\n",
       "age               67         67         48         48         47         47   \n",
       "cell            skin       skin       vein       vein       vein       vein   \n",
       "treatment     Normal    Treated     Normal    Treated     Normal    Treated   \n",
       "t                  1          0          1          0          1          0   \n",
       "\n",
       "          GSM4227397 GSM4227398 GSM4227399 GSM4227400  \n",
       "age               49         49         49         49  \n",
       "cell            vein       vein       vein       vein  \n",
       "treatment     Normal    Treated     Normal    Treated  \n",
       "t                  1          0          1          0  "
      ]
     },
     "execution_count": 5,
     "metadata": {},
     "output_type": "execute_result"
    }
   ],
   "source": [
    "# Combine methylation data with treatment, age, and cell type\n",
    "meta=pd.read_csv(rep,sep='\\t',skiprows=40,index_col=0,nrows=3) # meta data starts from line 40\n",
    "meta.columns=df.columns\n",
    "meta.index=['age','cell','treatment']\n",
    "meta=meta.T\n",
    "meta['age']=meta.age.str.strip('age: ')\n",
    "meta['cell']=meta.cell.str.strip('cell type: ')\n",
    "meta['treatment']=meta.treatment.str.strip('treatmentstatus: ')\n",
    "meta['t']=meta.treatment.apply(lambda x: 1 if x=='Normal' else 0)\n",
    "meta['cell']=meta.cell.apply(lambda x: 'skin' if x=='skin fibroblasts' else 'vein')\n",
    "meta.T"
   ]
  },
  {
   "cell_type": "code",
   "execution_count": 6,
   "metadata": {},
   "outputs": [],
   "source": [
    "# Generate Dataframes for DMR Analysis\n",
    "column_dict = {}\n",
    "for i in range (len(df.columns)):\n",
    "    column_dict[df.columns[i]] = meta.T.iloc[2,i]\n",
    "df_DMR = df.rename(columns=column_dict) #Dataframe for DMR analysis on all samples\n",
    "df_DMR.sort_index(axis=1, inplace=True)\n",
    "df_DMR_skin = df_DMR.iloc[:,:8] #Dataframe for DMR analysis on skin fibroblast"
   ]
  },
  {
   "cell_type": "code",
   "execution_count": 7,
   "metadata": {},
   "outputs": [
    {
     "data": {
      "text/html": [
       "<div>\n",
       "<style scoped>\n",
       "    .dataframe tbody tr th:only-of-type {\n",
       "        vertical-align: middle;\n",
       "    }\n",
       "\n",
       "    .dataframe tbody tr th {\n",
       "        vertical-align: top;\n",
       "    }\n",
       "\n",
       "    .dataframe thead th {\n",
       "        text-align: right;\n",
       "    }\n",
       "</style>\n",
       "<table border=\"1\" class=\"dataframe\">\n",
       "  <thead>\n",
       "    <tr style=\"text-align: right;\">\n",
       "      <th></th>\n",
       "      <th>Normal</th>\n",
       "      <th>Normal</th>\n",
       "      <th>Normal</th>\n",
       "      <th>Normal</th>\n",
       "      <th>Treated</th>\n",
       "      <th>Treated</th>\n",
       "      <th>Treated</th>\n",
       "      <th>Treated</th>\n",
       "    </tr>\n",
       "    <tr>\n",
       "      <th>ID_REF</th>\n",
       "      <th></th>\n",
       "      <th></th>\n",
       "      <th></th>\n",
       "      <th></th>\n",
       "      <th></th>\n",
       "      <th></th>\n",
       "      <th></th>\n",
       "      <th></th>\n",
       "    </tr>\n",
       "  </thead>\n",
       "  <tbody>\n",
       "    <tr>\n",
       "      <th>cg00000029</th>\n",
       "      <td>0.192582</td>\n",
       "      <td>0.084506</td>\n",
       "      <td>0.202294</td>\n",
       "      <td>0.185225</td>\n",
       "      <td>0.229640</td>\n",
       "      <td>0.102028</td>\n",
       "      <td>0.170894</td>\n",
       "      <td>0.229188</td>\n",
       "    </tr>\n",
       "    <tr>\n",
       "      <th>cg00000103</th>\n",
       "      <td>0.050515</td>\n",
       "      <td>0.329022</td>\n",
       "      <td>0.341425</td>\n",
       "      <td>0.257052</td>\n",
       "      <td>0.040341</td>\n",
       "      <td>0.189790</td>\n",
       "      <td>0.341412</td>\n",
       "      <td>0.240811</td>\n",
       "    </tr>\n",
       "    <tr>\n",
       "      <th>cg00000109</th>\n",
       "      <td>0.617563</td>\n",
       "      <td>0.612092</td>\n",
       "      <td>0.814250</td>\n",
       "      <td>0.579529</td>\n",
       "      <td>0.642911</td>\n",
       "      <td>0.488234</td>\n",
       "      <td>0.836173</td>\n",
       "      <td>0.590639</td>\n",
       "    </tr>\n",
       "    <tr>\n",
       "      <th>cg00000155</th>\n",
       "      <td>0.896258</td>\n",
       "      <td>0.882052</td>\n",
       "      <td>0.890299</td>\n",
       "      <td>0.917016</td>\n",
       "      <td>0.914563</td>\n",
       "      <td>0.908893</td>\n",
       "      <td>0.884905</td>\n",
       "      <td>0.885932</td>\n",
       "    </tr>\n",
       "    <tr>\n",
       "      <th>cg00000158</th>\n",
       "      <td>0.912854</td>\n",
       "      <td>0.905442</td>\n",
       "      <td>0.886896</td>\n",
       "      <td>0.916827</td>\n",
       "      <td>0.917489</td>\n",
       "      <td>0.906985</td>\n",
       "      <td>0.823321</td>\n",
       "      <td>0.929487</td>\n",
       "    </tr>\n",
       "    <tr>\n",
       "      <th>...</th>\n",
       "      <td>...</td>\n",
       "      <td>...</td>\n",
       "      <td>...</td>\n",
       "      <td>...</td>\n",
       "      <td>...</td>\n",
       "      <td>...</td>\n",
       "      <td>...</td>\n",
       "      <td>...</td>\n",
       "    </tr>\n",
       "    <tr>\n",
       "      <th>ch.X.97129969R</th>\n",
       "      <td>0.026698</td>\n",
       "      <td>0.026375</td>\n",
       "      <td>0.026023</td>\n",
       "      <td>0.029316</td>\n",
       "      <td>0.019795</td>\n",
       "      <td>0.025582</td>\n",
       "      <td>0.025811</td>\n",
       "      <td>0.022566</td>\n",
       "    </tr>\n",
       "    <tr>\n",
       "      <th>ch.X.97133160R</th>\n",
       "      <td>0.040811</td>\n",
       "      <td>0.074792</td>\n",
       "      <td>0.050386</td>\n",
       "      <td>0.049384</td>\n",
       "      <td>0.063230</td>\n",
       "      <td>0.049254</td>\n",
       "      <td>0.078883</td>\n",
       "      <td>0.053192</td>\n",
       "    </tr>\n",
       "    <tr>\n",
       "      <th>ch.X.97651759F</th>\n",
       "      <td>0.027727</td>\n",
       "      <td>0.032493</td>\n",
       "      <td>0.027609</td>\n",
       "      <td>0.018154</td>\n",
       "      <td>0.022679</td>\n",
       "      <td>0.033779</td>\n",
       "      <td>0.028412</td>\n",
       "      <td>0.021472</td>\n",
       "    </tr>\n",
       "    <tr>\n",
       "      <th>ch.X.97737721F</th>\n",
       "      <td>0.049783</td>\n",
       "      <td>0.079843</td>\n",
       "      <td>0.061804</td>\n",
       "      <td>0.041949</td>\n",
       "      <td>0.053772</td>\n",
       "      <td>0.051183</td>\n",
       "      <td>0.055292</td>\n",
       "      <td>0.049105</td>\n",
       "    </tr>\n",
       "    <tr>\n",
       "      <th>ch.X.98007042R</th>\n",
       "      <td>0.064065</td>\n",
       "      <td>0.078306</td>\n",
       "      <td>0.067086</td>\n",
       "      <td>0.047051</td>\n",
       "      <td>0.044332</td>\n",
       "      <td>0.049776</td>\n",
       "      <td>0.072266</td>\n",
       "      <td>0.057582</td>\n",
       "    </tr>\n",
       "  </tbody>\n",
       "</table>\n",
       "<p>866091 rows × 8 columns</p>\n",
       "</div>"
      ],
      "text/plain": [
       "                  Normal    Normal    Normal    Normal   Treated   Treated  \\\n",
       "ID_REF                                                                       \n",
       "cg00000029      0.192582  0.084506  0.202294  0.185225  0.229640  0.102028   \n",
       "cg00000103      0.050515  0.329022  0.341425  0.257052  0.040341  0.189790   \n",
       "cg00000109      0.617563  0.612092  0.814250  0.579529  0.642911  0.488234   \n",
       "cg00000155      0.896258  0.882052  0.890299  0.917016  0.914563  0.908893   \n",
       "cg00000158      0.912854  0.905442  0.886896  0.916827  0.917489  0.906985   \n",
       "...                  ...       ...       ...       ...       ...       ...   \n",
       "ch.X.97129969R  0.026698  0.026375  0.026023  0.029316  0.019795  0.025582   \n",
       "ch.X.97133160R  0.040811  0.074792  0.050386  0.049384  0.063230  0.049254   \n",
       "ch.X.97651759F  0.027727  0.032493  0.027609  0.018154  0.022679  0.033779   \n",
       "ch.X.97737721F  0.049783  0.079843  0.061804  0.041949  0.053772  0.051183   \n",
       "ch.X.98007042R  0.064065  0.078306  0.067086  0.047051  0.044332  0.049776   \n",
       "\n",
       "                 Treated   Treated  \n",
       "ID_REF                              \n",
       "cg00000029      0.170894  0.229188  \n",
       "cg00000103      0.341412  0.240811  \n",
       "cg00000109      0.836173  0.590639  \n",
       "cg00000155      0.884905  0.885932  \n",
       "cg00000158      0.823321  0.929487  \n",
       "...                  ...       ...  \n",
       "ch.X.97129969R  0.025811  0.022566  \n",
       "ch.X.97133160R  0.078883  0.053192  \n",
       "ch.X.97651759F  0.028412  0.021472  \n",
       "ch.X.97737721F  0.055292  0.049105  \n",
       "ch.X.98007042R  0.072266  0.057582  \n",
       "\n",
       "[866091 rows x 8 columns]"
      ]
     },
     "execution_count": 7,
     "metadata": {},
     "output_type": "execute_result"
    }
   ],
   "source": [
    "# Adjust column names to match metilene input format\n",
    "# groupA for metilene = Normal; groupB for metilene = Treated\n",
    "df_DMR_skin = df.iloc[:,:8]\n",
    "df_DMR_skin.columns = ['Normal', 'Treated','Normal', 'Treated','Normal', 'Treated','Normal', 'Treated' ]\n",
    "df_DMR_skin = df_DMR_skin.rename(columns=column_dict)\n",
    "df_DMR_skin.sort_index(axis=1, inplace=True)\n",
    "df_DMR_skin\n"
   ]
  },
  {
   "cell_type": "code",
   "execution_count": 8,
   "metadata": {},
   "outputs": [
    {
     "name": "stderr",
     "output_type": "stream",
     "text": [
      "/Users/sanieskinazi/opt/anaconda3/lib/python3.8/site-packages/IPython/core/interactiveshell.py:3071: DtypeWarning: Columns (2,4,42,47) have mixed types.Specify dtype option on import or set low_memory=False.\n",
      "  has_raised = await self.run_ast_nodes(code_ast.body, cell_name,\n"
     ]
    }
   ],
   "source": [
    "# Generate Pandas Dataframe on Illumina Probes and Chromosome Locations\n",
    "epic=pd.read_csv(epic_man,skiprows=7,index_col=0) # data starts from line 7\n"
   ]
  },
  {
   "cell_type": "code",
   "execution_count": 9,
   "metadata": {},
   "outputs": [],
   "source": [
    "# Generate dataframe of the chromosome and location of all Illumina probes\n",
    "met_loc = epic[['CHR_hg38', 'Start_hg38']]\n",
    "\n"
   ]
  },
  {
   "cell_type": "code",
   "execution_count": 10,
   "metadata": {},
   "outputs": [
    {
     "data": {
      "text/html": [
       "<div>\n",
       "<style scoped>\n",
       "    .dataframe tbody tr th:only-of-type {\n",
       "        vertical-align: middle;\n",
       "    }\n",
       "\n",
       "    .dataframe tbody tr th {\n",
       "        vertical-align: top;\n",
       "    }\n",
       "\n",
       "    .dataframe thead th {\n",
       "        text-align: right;\n",
       "    }\n",
       "</style>\n",
       "<table border=\"1\" class=\"dataframe\">\n",
       "  <thead>\n",
       "    <tr style=\"text-align: right;\">\n",
       "      <th></th>\n",
       "      <th>CHR</th>\n",
       "      <th>Pos</th>\n",
       "      <th>Normal</th>\n",
       "      <th>Normal</th>\n",
       "      <th>Normal</th>\n",
       "      <th>Normal</th>\n",
       "      <th>Normal</th>\n",
       "      <th>Normal</th>\n",
       "      <th>Normal</th>\n",
       "      <th>Normal</th>\n",
       "      <th>Treated</th>\n",
       "      <th>Treated</th>\n",
       "      <th>Treated</th>\n",
       "      <th>Treated</th>\n",
       "      <th>Treated</th>\n",
       "      <th>Treated</th>\n",
       "      <th>Treated</th>\n",
       "      <th>Treated</th>\n",
       "    </tr>\n",
       "    <tr>\n",
       "      <th>ID_REF</th>\n",
       "      <th></th>\n",
       "      <th></th>\n",
       "      <th></th>\n",
       "      <th></th>\n",
       "      <th></th>\n",
       "      <th></th>\n",
       "      <th></th>\n",
       "      <th></th>\n",
       "      <th></th>\n",
       "      <th></th>\n",
       "      <th></th>\n",
       "      <th></th>\n",
       "      <th></th>\n",
       "      <th></th>\n",
       "      <th></th>\n",
       "      <th></th>\n",
       "      <th></th>\n",
       "      <th></th>\n",
       "    </tr>\n",
       "  </thead>\n",
       "  <tbody>\n",
       "    <tr>\n",
       "      <th>cg00000029</th>\n",
       "      <td>NaN</td>\n",
       "      <td>NaN</td>\n",
       "      <td>0.192582</td>\n",
       "      <td>0.084506</td>\n",
       "      <td>0.202294</td>\n",
       "      <td>0.185225</td>\n",
       "      <td>0.192410</td>\n",
       "      <td>0.806773</td>\n",
       "      <td>0.358765</td>\n",
       "      <td>0.446669</td>\n",
       "      <td>0.229640</td>\n",
       "      <td>0.102028</td>\n",
       "      <td>0.170894</td>\n",
       "      <td>0.229188</td>\n",
       "      <td>0.152512</td>\n",
       "      <td>0.865000</td>\n",
       "      <td>0.366739</td>\n",
       "      <td>0.433033</td>\n",
       "    </tr>\n",
       "    <tr>\n",
       "      <th>cg00000103</th>\n",
       "      <td>NaN</td>\n",
       "      <td>NaN</td>\n",
       "      <td>0.050515</td>\n",
       "      <td>0.329022</td>\n",
       "      <td>0.341425</td>\n",
       "      <td>0.257052</td>\n",
       "      <td>0.068477</td>\n",
       "      <td>0.399574</td>\n",
       "      <td>0.142422</td>\n",
       "      <td>0.451088</td>\n",
       "      <td>0.040341</td>\n",
       "      <td>0.189790</td>\n",
       "      <td>0.341412</td>\n",
       "      <td>0.240811</td>\n",
       "      <td>0.046939</td>\n",
       "      <td>0.466977</td>\n",
       "      <td>0.062342</td>\n",
       "      <td>0.469305</td>\n",
       "    </tr>\n",
       "  </tbody>\n",
       "</table>\n",
       "</div>"
      ],
      "text/plain": [
       "            CHR  Pos    Normal    Normal    Normal    Normal    Normal  \\\n",
       "ID_REF                                                                   \n",
       "cg00000029  NaN  NaN  0.192582  0.084506  0.202294  0.185225  0.192410   \n",
       "cg00000103  NaN  NaN  0.050515  0.329022  0.341425  0.257052  0.068477   \n",
       "\n",
       "              Normal    Normal    Normal   Treated   Treated   Treated  \\\n",
       "ID_REF                                                                   \n",
       "cg00000029  0.806773  0.358765  0.446669  0.229640  0.102028  0.170894   \n",
       "cg00000103  0.399574  0.142422  0.451088  0.040341  0.189790  0.341412   \n",
       "\n",
       "             Treated   Treated   Treated   Treated   Treated  \n",
       "ID_REF                                                        \n",
       "cg00000029  0.229188  0.152512  0.865000  0.366739  0.433033  \n",
       "cg00000103  0.240811  0.046939  0.466977  0.062342  0.469305  "
      ]
     },
     "execution_count": 10,
     "metadata": {},
     "output_type": "execute_result"
    }
   ],
   "source": [
    "# Prepare df_DMR for Metilene Input by adding columns that show\n",
    "# chromosome number and position on chromosome\n",
    "df_DMR.insert(loc=0, column='CHR', value='NaN')\n",
    "df_DMR.insert(loc=1, column='Pos', value='NaN')\n",
    "\n",
    "# df_DMR.loc[df_DMR.IDs(met_loc.CHR_hg38), 'CHR'] = met_loc.CHR_hg38\n",
    "df_DMR.head(2)"
   ]
  },
  {
   "cell_type": "code",
   "execution_count": 11,
   "metadata": {},
   "outputs": [],
   "source": [
    "# Generate a dictionary where the key is the illumina probe ID\n",
    "# and the value is a tuple of chrosome number and chromosome location\n",
    "loc_set = set(met_loc.index)\n",
    "df_dict = {}\n",
    "for ID in df_DMR.index:\n",
    "    if ID in loc_set:\n",
    "        chr_num = str(met_loc.loc[ID, 'CHR_hg38'])\n",
    "        if chr_num != 'nan':\n",
    "            df_dict[ID] = (chr_num[3:], met_loc.loc[ID, 'Start_hg38'])\n"
   ]
  },
  {
   "cell_type": "code",
   "execution_count": 12,
   "metadata": {},
   "outputs": [
    {
     "data": {
      "text/html": [
       "<div>\n",
       "<style scoped>\n",
       "    .dataframe tbody tr th:only-of-type {\n",
       "        vertical-align: middle;\n",
       "    }\n",
       "\n",
       "    .dataframe tbody tr th {\n",
       "        vertical-align: top;\n",
       "    }\n",
       "\n",
       "    .dataframe thead th {\n",
       "        text-align: right;\n",
       "    }\n",
       "</style>\n",
       "<table border=\"1\" class=\"dataframe\">\n",
       "  <thead>\n",
       "    <tr style=\"text-align: right;\">\n",
       "      <th></th>\n",
       "      <th>CHR</th>\n",
       "      <th>Pos</th>\n",
       "      <th>Normal</th>\n",
       "      <th>Normal</th>\n",
       "      <th>Normal</th>\n",
       "      <th>Normal</th>\n",
       "      <th>Normal</th>\n",
       "      <th>Normal</th>\n",
       "      <th>Normal</th>\n",
       "      <th>Normal</th>\n",
       "      <th>Treated</th>\n",
       "      <th>Treated</th>\n",
       "      <th>Treated</th>\n",
       "      <th>Treated</th>\n",
       "      <th>Treated</th>\n",
       "      <th>Treated</th>\n",
       "      <th>Treated</th>\n",
       "      <th>Treated</th>\n",
       "    </tr>\n",
       "    <tr>\n",
       "      <th>ID_REF</th>\n",
       "      <th></th>\n",
       "      <th></th>\n",
       "      <th></th>\n",
       "      <th></th>\n",
       "      <th></th>\n",
       "      <th></th>\n",
       "      <th></th>\n",
       "      <th></th>\n",
       "      <th></th>\n",
       "      <th></th>\n",
       "      <th></th>\n",
       "      <th></th>\n",
       "      <th></th>\n",
       "      <th></th>\n",
       "      <th></th>\n",
       "      <th></th>\n",
       "      <th></th>\n",
       "      <th></th>\n",
       "    </tr>\n",
       "  </thead>\n",
       "  <tbody>\n",
       "    <tr>\n",
       "      <th>cg00000029</th>\n",
       "      <td>16</td>\n",
       "      <td>53434199.0</td>\n",
       "      <td>0.192582</td>\n",
       "      <td>0.084506</td>\n",
       "      <td>0.202294</td>\n",
       "      <td>0.185225</td>\n",
       "      <td>0.192410</td>\n",
       "      <td>0.806773</td>\n",
       "      <td>0.358765</td>\n",
       "      <td>0.446669</td>\n",
       "      <td>0.229640</td>\n",
       "      <td>0.102028</td>\n",
       "      <td>0.170894</td>\n",
       "      <td>0.229188</td>\n",
       "      <td>0.152512</td>\n",
       "      <td>0.865000</td>\n",
       "      <td>0.366739</td>\n",
       "      <td>0.433033</td>\n",
       "    </tr>\n",
       "    <tr>\n",
       "      <th>cg00000103</th>\n",
       "      <td>4</td>\n",
       "      <td>72604468.0</td>\n",
       "      <td>0.050515</td>\n",
       "      <td>0.329022</td>\n",
       "      <td>0.341425</td>\n",
       "      <td>0.257052</td>\n",
       "      <td>0.068477</td>\n",
       "      <td>0.399574</td>\n",
       "      <td>0.142422</td>\n",
       "      <td>0.451088</td>\n",
       "      <td>0.040341</td>\n",
       "      <td>0.189790</td>\n",
       "      <td>0.341412</td>\n",
       "      <td>0.240811</td>\n",
       "      <td>0.046939</td>\n",
       "      <td>0.466977</td>\n",
       "      <td>0.062342</td>\n",
       "      <td>0.469305</td>\n",
       "    </tr>\n",
       "  </tbody>\n",
       "</table>\n",
       "</div>"
      ],
      "text/plain": [
       "           CHR         Pos    Normal    Normal    Normal    Normal    Normal  \\\n",
       "ID_REF                                                                         \n",
       "cg00000029  16  53434199.0  0.192582  0.084506  0.202294  0.185225  0.192410   \n",
       "cg00000103   4  72604468.0  0.050515  0.329022  0.341425  0.257052  0.068477   \n",
       "\n",
       "              Normal    Normal    Normal   Treated   Treated   Treated  \\\n",
       "ID_REF                                                                   \n",
       "cg00000029  0.806773  0.358765  0.446669  0.229640  0.102028  0.170894   \n",
       "cg00000103  0.399574  0.142422  0.451088  0.040341  0.189790  0.341412   \n",
       "\n",
       "             Treated   Treated   Treated   Treated   Treated  \n",
       "ID_REF                                                        \n",
       "cg00000029  0.229188  0.152512  0.865000  0.366739  0.433033  \n",
       "cg00000103  0.240811  0.046939  0.466977  0.062342  0.469305  "
      ]
     },
     "execution_count": 12,
     "metadata": {},
     "output_type": "execute_result"
    }
   ],
   "source": [
    "# Assign chromosome numbers and positions to df\n",
    "# Remove all 'Nan'\n",
    "# This will make your df ready for inputting into metilene\n",
    "chr_pos_df = pd.DataFrame.from_dict(df_dict, orient='index')\n",
    "df_DMR['CHR'] = chr_pos_df[0]\n",
    "df_DMR['Pos'] = chr_pos_df[1]\n",
    "df_DMR = df_DMR.dropna()\n",
    "\n",
    "df_DMR.head(2)"
   ]
  },
  {
   "cell_type": "code",
   "execution_count": 13,
   "metadata": {},
   "outputs": [],
   "source": [
    "# Prepare df_DMR_skin for Metilene Input by adding columns that show\n",
    "# chromosome number and position on chromosome\n",
    "df_DMR_skin.insert(loc=0, column='CHR', value='NaN')\n",
    "df_DMR_skin.insert(loc=1, column='Pos', value='NaN')\n",
    "df_DMR_skin['CHR'] = chr_pos_df[0]\n",
    "df_DMR_skin['Pos'] = chr_pos_df[1]\n",
    "df_DMR_skin = df_DMR_skin.dropna()\n",
    "\n"
   ]
  },
  {
   "cell_type": "code",
   "execution_count": 14,
   "metadata": {},
   "outputs": [],
   "source": [
    "# For All samples metilene analysis:\n",
    "# Sort and save your metilene input as a txt file \n",
    "df_DMR = df_DMR.sort_values(by=['CHR', 'Pos'])\n",
    "df_DMR.to_csv('DMR_metiline_in.txt', sep ='\\t', index=False) "
   ]
  },
  {
   "cell_type": "code",
   "execution_count": 15,
   "metadata": {},
   "outputs": [],
   "source": [
    "# For Skin Fibroblast metilene analysis:\n",
    "# Sort and save your metilene input as a txt file \n",
    "df_DMR_skin = df_DMR_skin.sort_values(by=['CHR', 'Pos'])\n",
    "df_DMR_skin.to_csv('DMR_skin_metiline_in.txt', sep ='\\t', index=False) "
   ]
  },
  {
   "cell_type": "markdown",
   "metadata": {},
   "source": [
    "The Cells Below will be Analyzing the outputs of the metilene software. There are 4 outputs: \n",
    "1) All Samples, min CpG = 10\n",
    "2) Only Skin Samples, min CpG = 10\n",
    "3) All Samples, min CpG = 5\n",
    "4) Only skin fibroblasts, min CpG = 5"
   ]
  },
  {
   "cell_type": "code",
   "execution_count": 16,
   "metadata": {},
   "outputs": [
    {
     "name": "stdout",
     "output_type": "stream",
     "text": [
      "There are 193 DMRs in all samples with min CpG=10\n"
     ]
    }
   ],
   "source": [
    "# Metilene All Samples Output min CpG = 10\n",
    "metilene_df =pd.read_csv('metiline4.output', sep ='\\t', header=None)\n",
    "metilene_df.columns = ['chr', 'start', 'stop', 'q-val', 'Mean diff', 'No_CpGs', 'p(MWU)', 'p(2D_KS)', 'Mean_Normal', 'Mean_Treated']\n",
    "print(\"There are {} DMRs in all samples with min CpG=10\". format(len(metilene_df.index)))"
   ]
  },
  {
   "cell_type": "code",
   "execution_count": 17,
   "metadata": {},
   "outputs": [
    {
     "name": "stdout",
     "output_type": "stream",
     "text": [
      "There are 355 DMRs in skin fibroblasts with min CpG=10\n"
     ]
    }
   ],
   "source": [
    "#Metilene Skin Output min CpG = 10\n",
    "metilene_skin = pd.read_csv('metilene_skin.output', sep ='\\t', header=None)\n",
    "metilene_skin.columns = ['chr', 'start', 'stop', 'q-val', 'Mean diff', 'No_CpGs', 'p(MWU)', 'p(2D_KS)', 'Mean_Normal', 'Mean_Treated']\n",
    "print(\"There are {} DMRs in skin fibroblasts with min CpG=10\". format(len(metilene_skin.index)))"
   ]
  },
  {
   "cell_type": "code",
   "execution_count": 18,
   "metadata": {},
   "outputs": [
    {
     "data": {
      "text/html": [
       "<div>\n",
       "<style scoped>\n",
       "    .dataframe tbody tr th:only-of-type {\n",
       "        vertical-align: middle;\n",
       "    }\n",
       "\n",
       "    .dataframe tbody tr th {\n",
       "        vertical-align: top;\n",
       "    }\n",
       "\n",
       "    .dataframe thead th {\n",
       "        text-align: right;\n",
       "    }\n",
       "</style>\n",
       "<table border=\"1\" class=\"dataframe\">\n",
       "  <thead>\n",
       "    <tr style=\"text-align: right;\">\n",
       "      <th></th>\n",
       "      <th>chr</th>\n",
       "      <th>start</th>\n",
       "      <th>stop</th>\n",
       "      <th>q-val</th>\n",
       "      <th>Mean diff</th>\n",
       "      <th>No_CpGs</th>\n",
       "      <th>p(MWU)</th>\n",
       "      <th>p(2D_KS)</th>\n",
       "      <th>Mean_Normal</th>\n",
       "      <th>Mean_Treated</th>\n",
       "    </tr>\n",
       "  </thead>\n",
       "  <tbody>\n",
       "    <tr>\n",
       "      <th>208</th>\n",
       "      <td>11</td>\n",
       "      <td>1998336</td>\n",
       "      <td>1998505</td>\n",
       "      <td>1</td>\n",
       "      <td>-0.021233</td>\n",
       "      <td>10</td>\n",
       "      <td>0.04854</td>\n",
       "      <td>0.28341</td>\n",
       "      <td>0.46722</td>\n",
       "      <td>0.48845</td>\n",
       "    </tr>\n",
       "  </tbody>\n",
       "</table>\n",
       "</div>"
      ],
      "text/plain": [
       "    chr    start     stop  q-val  Mean diff  No_CpGs   p(MWU)  p(2D_KS)  \\\n",
       "208  11  1998336  1998505      1  -0.021233       10  0.04854   0.28341   \n",
       "\n",
       "     Mean_Normal  Mean_Treated  \n",
       "208      0.46722       0.48845  "
      ]
     },
     "execution_count": 18,
     "metadata": {},
     "output_type": "execute_result"
    }
   ],
   "source": [
    "# Find the DMRs That Are Statistically Significant, in Skin, CpG = 10\n",
    "skin_significant = metilene_skin[metilene_skin['p(MWU)'] < 0.05]\n",
    "skin_significant"
   ]
  },
  {
   "cell_type": "code",
   "execution_count": 19,
   "metadata": {},
   "outputs": [
    {
     "name": "stdout",
     "output_type": "stream",
     "text": [
      "There are 3076 DMRs in all samples with min CpG=5\n"
     ]
    }
   ],
   "source": [
    "#Metilene All Output for Min CpG = 5\n",
    "metilene_all_5 =pd.read_csv('metilene_all_5.output', sep ='\\t', header=None)\n",
    "metilene_all_5.columns = ['chr', 'start', 'stop', 'q-val', 'Mean diff', 'No_CpGs', 'p(MWU)', 'p(2D_KS)', 'Mean_Normal', 'Mean_Treated']\n",
    "metilene_all_5.sort_values(by=['p(MWU)'], ascending = True)\n",
    "all_significant_5 = metilene_all_5[metilene_all_5['p(MWU)'] < 0.05]\n",
    "all_significant_5 = all_significant_5.drop(['q-val', 'p(2D_KS)'], axis=1)\n",
    "all_significant_5.sort_values(by=['p(MWU)'], ascending = True).head(5)\n",
    "print(\"There are {} DMRs in all samples with min CpG=5\". format(len(metilene_all_5.index)))"
   ]
  },
  {
   "cell_type": "code",
   "execution_count": 20,
   "metadata": {},
   "outputs": [
    {
     "name": "stdout",
     "output_type": "stream",
     "text": [
      "There are 4771 DMRs in skin fibroblasts with min CpG=5\n"
     ]
    }
   ],
   "source": [
    "#Metilene Skin Output for Min CpG = 5\n",
    "metilene_skin_5 =pd.read_csv('metilene_skin_5.output', sep ='\\t', header=None)\n",
    "metilene_skin_5.columns = ['chr', 'start', 'stop', 'q-val', 'Mean diff', 'No_CpGs', 'p(MWU)', 'p(2D_KS)', 'Mean_Normal', 'Mean_Treated']\n",
    "metilene_skin_5.sort_values(by=['p(MWU)'], ascending = True)\n",
    "skin_significant_5 = metilene_skin_5[metilene_skin_5['p(MWU)'] < 0.05]\n",
    "skin_significant_5 = skin_significant_5.drop(['q-val', 'p(2D_KS)'], axis=1)\n",
    "skin_significant_5.sort_values(by=['p(MWU)'], ascending = True).head(5)\n",
    "print(\"There are {} DMRs in skin fibroblasts with min CpG=5\". format(len(metilene_skin_5.index)))"
   ]
  },
  {
   "cell_type": "code",
   "execution_count": 21,
   "metadata": {},
   "outputs": [
    {
     "data": {
      "text/plain": [
       "Text(0.5, 1.0, 'Histogram of DMRs in Skin Fibroblasts')"
      ]
     },
     "execution_count": 21,
     "metadata": {},
     "output_type": "execute_result"
    },
    {
     "data": {
      "image/png": "[encoded data removed]",
      "text/plain": [
       "<Figure size 432x288 with 1 Axes>"
      ]
     },
     "metadata": {
      "needs_background": "light"
     },
     "output_type": "display_data"
    }
   ],
   "source": [
    "# Histogram, Methylation Difference, Skin, CpG = 5\n",
    "plt.hist(metilene_skin_5['Mean diff'], bins = 30, alpha=0.7, color='black', range = (-0.04,0.04))\n",
    "plt.xlabel('Methylation Difference (Normal - Rejuvenated/Treated), minCpG = 5')\n",
    "plt.ylabel('Count')\n",
    "plt.title('Histogram of DMRs in Skin Fibroblasts')"
   ]
  },
  {
   "cell_type": "code",
   "execution_count": 22,
   "metadata": {},
   "outputs": [
    {
     "name": "stdout",
     "output_type": "stream",
     "text": [
      "0.6422133724586041% increased in methylation, 0.35778662754139595% decreased in methylation\n"
     ]
    }
   ],
   "source": [
    "# Hypo vs Hypermethylation of DMRs\n",
    "hypo_num = len(metilene_skin_5[(metilene_skin_5['Mean diff'] > 0)].index)\n",
    "hyper_num = len(metilene_skin_5[(metilene_skin_5['Mean diff'] < 0)].index)\n",
    "print(\"{}% increased in methylation, {}% decreased in methylation\".\n",
    "      format(hyper_num/len(metilene_skin_5['Mean diff']), hypo_num/len(metilene_skin_5['Mean diff'])))"
   ]
  },
  {
   "cell_type": "code",
   "execution_count": 23,
   "metadata": {},
   "outputs": [
    {
     "name": "stdout",
     "output_type": "stream",
     "text": [
      "median is:  416\n"
     ]
    },
    {
     "data": {
      "image/png": "[encoded data removed]",
      "text/plain": [
       "<Figure size 432x288 with 1 Axes>"
      ]
     },
     "metadata": {
      "needs_background": "light"
     },
     "output_type": "display_data"
    }
   ],
   "source": [
    "#Histogram, DMR Lenghts, Skin, CpG = 5\n",
    "plt.hist((metilene_skin_5['stop'] - metilene_skin_5['start']), bins = 25, alpha=0.7, color='black', density = False)\n",
    "plt.xlabel('DMR Length (nucleotides)')\n",
    "plt.ylabel('Count')\n",
    "plt.title('Histogram of DMRs Lengths in Skin Fibroblasts, min CpG = 5')\n",
    "\n",
    "print(\"median is: \", statistics.median((metilene_skin_5['stop'] - metilene_skin_5['start'])))\n",
    "basepairs_skin5 = list((metilene_skin_5['stop'] - metilene_skin_5['start']))"
   ]
  },
  {
   "cell_type": "code",
   "execution_count": 24,
   "metadata": {},
   "outputs": [
    {
     "name": "stdout",
     "output_type": "stream",
     "text": [
      "Percentage of Genome that our DMRs (min 5 CpGs) cover is 0.06977376666666667%\n"
     ]
    }
   ],
   "source": [
    "#Find Percentage of Genome Covered by DMRs\n",
    "total_nuc = sum(basepairs_skin5)\n",
    "print(\"Percentage of Genome that our DMRs (min 5 CpGs) cover is {}%\". format (100*total_nuc/(3*(10**9))))"
   ]
  },
  {
   "cell_type": "code",
   "execution_count": 25,
   "metadata": {},
   "outputs": [
    {
     "data": {
      "text/plain": [
       "<matplotlib.lines.Line2D at 0x7fd0a4040190>"
      ]
     },
     "execution_count": 25,
     "metadata": {},
     "output_type": "execute_result"
    },
    {
     "data": {
      "image/png": "[encoded data removed]",
      "text/plain": [
       "<Figure size 432x288 with 1 Axes>"
      ]
     },
     "metadata": {
      "needs_background": "light"
     },
     "output_type": "display_data"
    }
   ],
   "source": [
    "# P-value Histograms of Skin, CpG=5\n",
    "plt.hist(metilene_skin_5['p(MWU)'], bins = 20, alpha=0.7, color='black', range = (0, 0.5))\n",
    "plt.xlabel('Adjusted p-values')\n",
    "plt.ylabel('Count for min CpG = 5')\n",
    "plt.title('Histogram of Adjusted p-values in DMRs from Skin Fibroblasts')\n",
    "plt.axvline(0.05, color='r', linestyle='dashed', linewidth=1)"
   ]
  },
  {
   "cell_type": "code",
   "execution_count": 26,
   "metadata": {},
   "outputs": [
    {
     "name": "stdout",
     "output_type": "stream",
     "text": [
      "There are 23 statistically significant DMRs\n"
     ]
    }
   ],
   "source": [
    "# Find number of statistically significant DMRs\n",
    "print('There are {} statistically significant DMRs'.\n",
    "      format(len(metilene_skin_5[(metilene_skin_5['p(MWU)'] < 0.05)].index)))"
   ]
  },
  {
   "cell_type": "code",
   "execution_count": 27,
   "metadata": {},
   "outputs": [
    {
     "data": {
      "image/png": "[encoded data removed]",
      "text/plain": [
       "<Figure size 2160x216 with 1 Axes>"
      ]
     },
     "metadata": {
      "needs_background": "light"
     },
     "output_type": "display_data"
    }
   ],
   "source": [
    "#Show Table of 10 most significant DMRs in Skin Fibroblasts, CpG=5\n",
    "from pandas.plotting import table\n",
    "# set fig size\n",
    "fig, ax = plt.subplots(figsize=(30, 3)) \n",
    "# no axes\n",
    "ax.xaxis.set_visible(False)  \n",
    "ax.yaxis.set_visible(False)  \n",
    "# no frame\n",
    "ax.set_frame_on(False)  \n",
    "# plot table\n",
    "tab = table(ax, skin_significant_5.sort_values(by=['p(MWU)'], ascending = True).head(10), loc='upper right')  \n",
    "# set font manually\n",
    "tab.auto_set_font_size(False)\n",
    "tab.set_fontsize(12) \n",
    "# save the result\n",
    "plt.savefig('table.png')"
   ]
  }
 ],
 "metadata": {
  "colab": {
   "collapsed_sections": [],
   "name": "reprogramming.ipynb",
   "provenance": []
  },
  "kernelspec": {
   "display_name": "Python 3",
   "language": "python",
   "name": "python3"
  },
  "language_info": {
   "codemirror_mode": {
    "name": "ipython",
    "version": 3
   },
   "file_extension": ".py",
   "mimetype": "text/x-python",
   "name": "python",
   "nbconvert_exporter": "python",
   "pygments_lexer": "ipython3",
   "version": "3.8.3"
  }
 },
 "nbformat": 4,
 "nbformat_minor": 1
}
